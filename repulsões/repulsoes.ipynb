{
 "cells": [
  {
   "cell_type": "code",
   "execution_count": 6,
   "metadata": {},
   "outputs": [],
   "source": [
    "import numpy as np\n",
    "from scipy.optimize import minimize\n",
    "import random\n",
    "from stl import mesh\n",
    "from scipy.spatial import ConvexHull\n",
    "import trimesh\n",
    "\n",
    "import os"
   ]
  },
  {
   "cell_type": "code",
   "execution_count": 7,
   "metadata": {},
   "outputs": [],
   "source": [
    "def esferico_para_cartesiano_elipsoide(r1, r2, r3, pontos):\n",
    "    xyz = []\n",
    "    for theta, phi in pontos:\n",
    "        theta_rad = np.radians(theta)\n",
    "        phi_rad = np.radians(phi)\n",
    "        x = r1 * np.sin(phi_rad) * np.cos(theta_rad)\n",
    "        y = r2 * np.sin(phi_rad) * np.sin(theta_rad)\n",
    "        z = r3 * np.cos(phi_rad)\n",
    "        xyz.append([x, y, z])\n",
    "    return np.array(xyz)\n",
    "\n",
    "def gerar_pontos_iniciais(n_tipos, pontos_por_tipo):\n",
    "    pontos = []\n",
    "    tipos = []\n",
    "    for tipo, n_pontos in enumerate(pontos_por_tipo):\n",
    "        for _ in range(n_pontos):\n",
    "            theta = random.uniform(0, 360)\n",
    "            phi = random.uniform(0, 180)\n",
    "            pontos.append([theta, phi])\n",
    "            tipos.append(tipo)\n",
    "    return np.array(pontos), tipos\n",
    "\n",
    "\n",
    "def repulsao_total_elipsoide(variaveis, r1, r2, r3, repulsoes, tipos):\n",
    "    n_pontos = len(variaveis) // 2\n",
    "    pontos = np.reshape(variaveis, (n_pontos, 2))  \n",
    "    cartesianos = esferico_para_cartesiano_elipsoide(r1, r2, r3, pontos)\n",
    "\n",
    "    energia = 0\n",
    "    for i in range(n_pontos):\n",
    "        for j in range(i + 1, n_pontos):\n",
    "            dist = np.linalg.norm(cartesianos[i] - cartesianos[j])  \n",
    "            tipo_i = tipos[i]\n",
    "            tipo_j = tipos[j]\n",
    "            if (tipo_i, tipo_j) in repulsoes:\n",
    "                k_ij = repulsoes[(tipo_i, tipo_j)]\n",
    "            else:\n",
    "                k_ij = repulsoes[(tipo_j, tipo_i)]  \n",
    "            energia += k_ij / dist  \n",
    "    return energia\n",
    "\n",
    "\n",
    "def otimizar_pontos_elipsoide(r1, r2, r3, n_tipos, pontos_por_tipo, repulsoes):\n",
    "    pontos_iniciais, tipos = gerar_pontos_iniciais(n_tipos, pontos_por_tipo)\n",
    "    variaveis_iniciais = pontos_iniciais.flatten()\n",
    "\n",
    "    resultado = minimize(\n",
    "        repulsao_total_elipsoide,\n",
    "        variaveis_iniciais,\n",
    "        args=(r1, r2, r3, repulsoes, tipos),\n",
    "        method='L-BFGS-B',\n",
    "        bounds=[(0, 360) if i % 2 == 0 else (0, 180) for i in range(len(variaveis_iniciais))],\n",
    "        options={'maxiter': 20000}\n",
    "    )\n",
    "    \n",
    "    pontos_otimizados = np.reshape(resultado.x, (sum(pontos_por_tipo), 2))\n",
    "    energia_final = repulsao_total_elipsoide(resultado.x, r1, r2, r3, repulsoes, tipos)\n",
    "    return esferico_para_cartesiano_elipsoide(r1, r2, r3, pontos_otimizados), energia_final\n",
    "\n",
    "\n",
    "\n",
    "def salvar_em_stl(pontos_3d, nome_arquivo='pontos_otimizados.stl'):\n",
    "    hull = ConvexHull(pontos_3d)  \n",
    "    polygon_mesh = mesh.Mesh(np.zeros(hull.simplices.shape[0], dtype=mesh.Mesh.dtype))\n",
    "    for i, simplex in enumerate(hull.simplices):\n",
    "        for j in range(3):\n",
    "            polygon_mesh.vectors[i][j] = pontos_3d[simplex[j], :]\n",
    "    polygon_mesh.save(nome_arquivo)\n",
    "    print(f\"Arquivo STL salvo como '{nome_arquivo}'\")\n",
    "\n"
   ]
  },
  {
   "cell_type": "code",
   "execution_count": 8,
   "metadata": {},
   "outputs": [
    {
     "name": "stdout",
     "output_type": "stream",
     "text": [
      "Arquivo STL salvo como 'Formas/e21.23.stl'\n",
      "Arquivo STL salvo como 'Formas/e21.16.stl'\n",
      "Arquivo STL salvo como 'Formas/e21.17.stl'\n",
      "Arquivo STL salvo como 'Formas/e21.29.stl'\n",
      "Arquivo STL salvo como 'Formas/e21.16.stl'\n"
     ]
    }
   ],
   "source": [
    "teste = os.path.isdir(\"Formas\")\n",
    "\n",
    "if not teste:\n",
    "   os.makedirs(\"Formas\")\n",
    "\n",
    "r1, r2, r3 = 15, 15, 15\n",
    "n_tipos = 5\n",
    "pontos_por_tipo = [4] * 5 \n",
    "repulsoes = {  \n",
    "    (0, 0): 10, \n",
    "    (1, 1): 10, \n",
    "    (2, 2): 10,  \n",
    "    (3, 3): 10,\n",
    "    (4, 4): 10,  \n",
    "    \n",
    "    (0, 1): 1,   \n",
    "    (2, 1): 1,  \n",
    "    (4, 1): 1,\n",
    "    (0, 2): 1, \n",
    "    (0, 4): 1,\n",
    "    (3, 2): 1,\n",
    "    (1, 3): 1,\n",
    "    (0, 3): 1,\n",
    "    (4, 2): 1,\n",
    "    (3, 4): 1,\n",
    "    (2, 4): 1\n",
    "}  \n",
    "n_tentativas = 5\n",
    "\n",
    "nomes = []\n",
    "valores = []\n",
    "for i in range(n_tentativas):\n",
    "    pontos_otimizados, energia = otimizar_pontos_elipsoide(r1, r2, r3, n_tipos, pontos_por_tipo, repulsoes)\n",
    "    nome = f\"Formas/e{round(energia, 2)}.stl\"\n",
    "    salvar_em_stl(pontos_otimizados, nome)\n",
    "    nomes.append(nome)\n",
    "    valores.append(energia)\n"
   ]
  },
  {
   "cell_type": "code",
   "execution_count": null,
   "metadata": {},
   "outputs": [],
   "source": []
  }
 ],
 "metadata": {
  "kernelspec": {
   "display_name": "Python 3.12.4 ('ilumpy')",
   "language": "python",
   "name": "python3"
  },
  "language_info": {
   "codemirror_mode": {
    "name": "ipython",
    "version": 3
   },
   "file_extension": ".py",
   "mimetype": "text/x-python",
   "name": "python",
   "nbconvert_exporter": "python",
   "pygments_lexer": "ipython3",
   "version": "3.12.4"
  },
  "orig_nbformat": 4,
  "vscode": {
   "interpreter": {
    "hash": "8994a04b4ccf70bfcc452c822afda6a88c204b2f833cd684c7b2289d7e96707e"
   }
  }
 },
 "nbformat": 4,
 "nbformat_minor": 2
}
