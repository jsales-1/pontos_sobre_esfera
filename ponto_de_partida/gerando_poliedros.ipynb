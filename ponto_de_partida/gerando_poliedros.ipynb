{
 "cells": [
  {
   "cell_type": "code",
   "execution_count": 6,
   "metadata": {},
   "outputs": [],
   "source": [
    "from Funcoes import*\n",
    "import os"
   ]
  },
  {
   "cell_type": "code",
   "execution_count": 7,
   "metadata": {},
   "outputs": [],
   "source": [
    "existencia_diretorio = os.path.isdir(\"Poliedros\")\n",
    "if not existencia_diretorio:\n",
    "   os.mkdir(\"Poliedros\")"
   ]
  },
  {
   "cell_type": "code",
   "execution_count": 9,
   "metadata": {},
   "outputs": [
    {
     "name": "stdout",
     "output_type": "stream",
     "text": [
      "Inverso Distâncias Final: 0.2449601755998185\n",
      "Arquivo STL salvo como 'Poliedros/4_pontos.stl'\n",
      "Inverso Distâncias Final: 0.4316498761781134\n",
      "Arquivo STL salvo como 'Poliedros/5_pontos.stl'\n",
      "Inverso Distâncias Final: 0.66570874312796\n",
      "Arquivo STL salvo como 'Poliedros/6_pontos.stl'\n",
      "Inverso Distâncias Final: 1.3120421350349956\n",
      "Arquivo STL salvo como 'Poliedros/8_pontos.stl'\n",
      "Inverso Distâncias Final: 2.1814052222992886\n",
      "Arquivo STL salvo como 'Poliedros/10_pontos.stl'\n",
      "Inverso Distâncias Final: 3.284241975614705\n",
      "Arquivo STL salvo como 'Poliedros/12_pontos.stl'\n",
      "Inverso Distâncias Final: 10.058815776473464\n",
      "Arquivo STL salvo como 'Poliedros/20_pontos.stl'\n",
      "Inverso Distâncias Final: 14.889822277530454\n",
      "Arquivo STL salvo como 'Poliedros/24_pontos.stl'\n"
     ]
    }
   ],
   "source": [
    "raio = 15\n",
    "ns_pontos = [4,5,6,8,10,12,20,24]\n",
    "\n",
    "for ponto in ns_pontos:\n",
    "   pontos, inverso_distancia = otimizar_pontos_esfera(raio, ponto)\n",
    "   print(f\"Inverso Distâncias Final: {inverso_distancia}\")\n",
    "\n",
    "   # Salvar em STL\n",
    "   salvar_em_stl(pontos,f'Poliedros/{ponto}_pontos.stl')\n"
   ]
  }
 ],
 "metadata": {
  "kernelspec": {
   "display_name": "Python 3.12.4 ('ilumpy')",
   "language": "python",
   "name": "python3"
  },
  "language_info": {
   "codemirror_mode": {
    "name": "ipython",
    "version": 3
   },
   "file_extension": ".py",
   "mimetype": "text/x-python",
   "name": "python",
   "nbconvert_exporter": "python",
   "pygments_lexer": "ipython3",
   "version": "3.12.4"
  },
  "orig_nbformat": 4,
  "vscode": {
   "interpreter": {
    "hash": "8994a04b4ccf70bfcc452c822afda6a88c204b2f833cd684c7b2289d7e96707e"
   }
  }
 },
 "nbformat": 4,
 "nbformat_minor": 2
}
