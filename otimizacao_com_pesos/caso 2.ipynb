{
 "cells": [
  {
   "cell_type": "code",
   "execution_count": 3,
   "metadata": {},
   "outputs": [],
   "source": [
    "import os\n",
    "from Funcoes import*\n",
    "from itertools import product"
   ]
  },
  {
   "cell_type": "code",
   "execution_count": 4,
   "metadata": {},
   "outputs": [
    {
     "name": "stdout",
     "output_type": "stream",
     "text": [
      "Arquivo STL salvo como 'Poliedros c2/4pontos.stl'\n",
      "Melhor poliedro salvo como Poliedros c2/4pontos.stl com distância ponderada 0.86\n",
      "Arquivo STL salvo como 'Poliedros c2/6pontos.stl'\n",
      "Melhor poliedro salvo como Poliedros c2/6pontos.stl com distância ponderada 1.57\n",
      "Arquivo STL salvo como 'Poliedros c2/8pontos.stl'\n",
      "Melhor poliedro salvo como Poliedros c2/8pontos.stl com distância ponderada 2.52\n",
      "Arquivo STL salvo como 'Poliedros c2/10pontos.stl'\n",
      "Melhor poliedro salvo como Poliedros c2/10pontos.stl com distância ponderada 3.70\n",
      "Arquivo STL salvo como 'Poliedros c2/12pontos.stl'\n",
      "Melhor poliedro salvo como Poliedros c2/12pontos.stl com distância ponderada 5.08\n",
      "Arquivo STL salvo como 'Poliedros c2/14pontos.stl'\n",
      "Melhor poliedro salvo como Poliedros c2/14pontos.stl com distância ponderada 6.72\n",
      "Arquivo STL salvo como 'Poliedros c2/16pontos.stl'\n",
      "Melhor poliedro salvo como Poliedros c2/16pontos.stl com distância ponderada 8.61\n",
      "Arquivo STL salvo como 'Poliedros c2/18pontos.stl'\n",
      "Melhor poliedro salvo como Poliedros c2/18pontos.stl com distância ponderada 10.72\n",
      "Arquivo STL salvo como 'Poliedros c2/20pontos.stl'\n",
      "Melhor poliedro salvo como Poliedros c2/20pontos.stl com distância ponderada 13.06\n",
      "Arquivo STL salvo como 'Poliedros c2/22pontos.stl'\n",
      "Melhor poliedro salvo como Poliedros c2/22pontos.stl com distância ponderada 15.65\n"
     ]
    }
   ],
   "source": [
    "pasta = \"Poliedros c2\"\n",
    "if not os.path.isdir(pasta):\n",
    "    os.makedirs(pasta)\n",
    "\n",
    "r = 15  \n",
    "k,k2 = 10,1\n",
    "n = 2\n",
    "\n",
    "for n_pontos in [i*n for i in range(2,12)]:\n",
    "    n_tipos = int(n_pontos/n)\n",
    "\n",
    "    possibilidades  = product(range(n_pontos), repeat=2)\n",
    "    pontos_por_tipo = [n] * n_tipos\n",
    "    pesos = {}  \n",
    "    for i in possibilidades:\n",
    "        if i[0] == i[1]:\n",
    "            pesos[i] = k\n",
    "        else:\n",
    "            pesos[i] = k2\n",
    "            \n",
    "    n_tentativas = 20\n",
    "\n",
    "    melhor_distancia = float('inf')\n",
    "    melhor_nome = None\n",
    "    melhores_pontos = None\n",
    "\n",
    "    for j in range(n_tentativas):\n",
    "        print(j,end='\\r')\n",
    "        pontos_otimizados, distancia_ponderada = otimizar_pontos_esfera(r, n_tipos, pontos_por_tipo, pesos)\n",
    "        \n",
    "        if distancia_ponderada < melhor_distancia:\n",
    "            melhor_distancia = distancia_ponderada\n",
    "            melhores_pontos = pontos_otimizados\n",
    "            melhor_nome = f\"{pasta}/{n_pontos}pontos.stl\"\n",
    "\n",
    "    if melhores_pontos is not None:\n",
    "        salvar_em_stl(melhores_pontos, melhor_nome)\n",
    "        print(f\"Melhor poliedro salvo como {melhor_nome} com distância ponderada {melhor_distancia:.2f}\")\n"
   ]
  },
  {
   "cell_type": "code",
   "execution_count": null,
   "metadata": {},
   "outputs": [],
   "source": []
  }
 ],
 "metadata": {
  "kernelspec": {
   "display_name": "Python 3.12.4 ('ilumpy')",
   "language": "python",
   "name": "python3"
  },
  "language_info": {
   "codemirror_mode": {
    "name": "ipython",
    "version": 3
   },
   "file_extension": ".py",
   "mimetype": "text/x-python",
   "name": "python",
   "nbconvert_exporter": "python",
   "pygments_lexer": "ipython3",
   "version": "3.12.4"
  },
  "orig_nbformat": 4,
  "vscode": {
   "interpreter": {
    "hash": "8994a04b4ccf70bfcc452c822afda6a88c204b2f833cd684c7b2289d7e96707e"
   }
  }
 },
 "nbformat": 4,
 "nbformat_minor": 2
}
