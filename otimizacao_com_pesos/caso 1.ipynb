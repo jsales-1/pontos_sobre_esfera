{
 "cells": [
  {
   "cell_type": "code",
   "execution_count": 1,
   "metadata": {},
   "outputs": [],
   "source": [
    "import os\n",
    "from Funcoes import*\n",
    "from itertools import product"
   ]
  },
  {
   "cell_type": "code",
   "execution_count": 24,
   "metadata": {},
   "outputs": [
    {
     "name": "stdout",
     "output_type": "stream",
     "text": [
      "Arquivo STL salvo como 'Poliedros/4pontos.stl'\n",
      "Melhor poliedro salvo como Poliedros/4pontos.stl com distância ponderada 2.45\n",
      "7\r"
     ]
    },
    {
     "name": "stderr",
     "output_type": "stream",
     "text": [
      "C:\\Users\\jose23038\\AppData\\Local\\Temp\\ipykernel_25348\\1966423511.py:91: RuntimeWarning: divide by zero encountered in scalar divide\n",
      "  soma_distancias_ponderadas += k_ij / dist\n",
      "c:\\Users\\jose23038\\AppData\\Local\\anaconda3\\envs\\ilumpy\\Lib\\site-packages\\scipy\\optimize\\_numdiff.py:592: RuntimeWarning: invalid value encountered in subtract\n",
      "  df = fun(x1) - f0\n"
     ]
    },
    {
     "name": "stdout",
     "output_type": "stream",
     "text": [
      "Arquivo STL salvo como 'Poliedros/8pontos.stl'\n",
      "Melhor poliedro salvo como Poliedros/8pontos.stl com distância ponderada 5.73\n",
      "Arquivo STL salvo como 'Poliedros/12pontos.stl'\n",
      "Melhor poliedro salvo como Poliedros/12pontos.stl com distância ponderada 9.95\n",
      "Arquivo STL salvo como 'Poliedros/16pontos.stl'\n",
      "Melhor poliedro salvo como Poliedros/16pontos.stl com distância ponderada 15.06\n",
      "Arquivo STL salvo como 'Poliedros/20pontos.stl'\n",
      "Melhor poliedro salvo como Poliedros/20pontos.stl com distância ponderada 21.14\n",
      "Arquivo STL salvo como 'Poliedros/24pontos.stl'\n",
      "Melhor poliedro salvo como Poliedros/24pontos.stl com distância ponderada 28.20\n",
      "Arquivo STL salvo como 'Poliedros/28pontos.stl'\n",
      "Melhor poliedro salvo como Poliedros/28pontos.stl com distância ponderada 36.20\n"
     ]
    }
   ],
   "source": [
    "pasta = \"Poliedros c1\"\n",
    "if not os.path.isdir(pasta):\n",
    "    os.makedirs(pasta)\n",
    "\n",
    "r = 15  \n",
    "k,k2 = 10,1\n",
    "n = 4\n",
    "\n",
    "for n_pontos in [i*n for i in range(2,7)]:\n",
    "    n_tipos = int(n_pontos/n)\n",
    "\n",
    "    possibilidades  = product(range(n_pontos), repeat=2)\n",
    "    pontos_por_tipo = [n] * n_tipos\n",
    "    pesos = {}  \n",
    "    for i in possibilidades:\n",
    "        if i[0] == i[1]:\n",
    "            pesos[i] = k\n",
    "        else:\n",
    "            pesos[i] = k2\n",
    "            \n",
    "    n_tentativas = 20\n",
    "\n",
    "    melhor_distancia = float('inf')\n",
    "    melhor_nome = None\n",
    "    melhores_pontos = None\n",
    "\n",
    "    for j in range(n_tentativas):\n",
    "        print(j,end='\\r')\n",
    "        pontos_otimizados, distancia_ponderada = otimizar_pontos_esfera(r, n_tipos, pontos_por_tipo, pesos)\n",
    "        \n",
    "        if distancia_ponderada < melhor_distancia:\n",
    "            melhor_distancia = distancia_ponderada\n",
    "            melhores_pontos = pontos_otimizados\n",
    "            melhor_nome = f\"{pasta}/{n_pontos}pontos.stl\"\n",
    "\n",
    "    if melhores_pontos is not None:\n",
    "        salvar_em_stl(melhores_pontos, melhor_nome)\n",
    "        print(f\"Melhor poliedro salvo como {melhor_nome} com distância ponderada {melhor_distancia:.2f}\")\n"
   ]
  },
  {
   "cell_type": "code",
   "execution_count": null,
   "metadata": {},
   "outputs": [],
   "source": []
  }
 ],
 "metadata": {
  "kernelspec": {
   "display_name": "Python 3.12.4 ('ilumpy')",
   "language": "python",
   "name": "python3"
  },
  "language_info": {
   "codemirror_mode": {
    "name": "ipython",
    "version": 3
   },
   "file_extension": ".py",
   "mimetype": "text/x-python",
   "name": "python",
   "nbconvert_exporter": "python",
   "pygments_lexer": "ipython3",
   "version": "3.12.4"
  },
  "orig_nbformat": 4,
  "vscode": {
   "interpreter": {
    "hash": "8994a04b4ccf70bfcc452c822afda6a88c204b2f833cd684c7b2289d7e96707e"
   }
  }
 },
 "nbformat": 4,
 "nbformat_minor": 2
}
